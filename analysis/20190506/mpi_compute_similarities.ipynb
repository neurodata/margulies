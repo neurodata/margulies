{
 "cells": [
  {
   "cell_type": "code",
   "execution_count": 1,
   "metadata": {},
   "outputs": [],
   "source": [
    "from pathlib import Path\n",
    "\n",
    "import numpy as np\n",
    "from numba import jit\n",
    "\n",
    "from joblib import Parallel, delayed"
   ]
  },
  {
   "cell_type": "code",
   "execution_count": 2,
   "metadata": {},
   "outputs": [],
   "source": [
    "def run_perc(data, thresh):\n",
    "    perc_all = np.zeros(data.shape[0])\n",
    "    for n,i in enumerate(data):\n",
    "        data[n, i < np.percentile(i, thresh)] = 0.\n",
    "    for n,i in enumerate(data):\n",
    "        data[n, i < 0.] = 0.\n",
    "    return data\n",
    "\n",
    "def compute_similarities(input_path, output_path):\n",
    "    fname = input_path.parts[-1].split('.')[1]\n",
    "    \n",
    "    K = np.load(input_path)\n",
    "    K[np.isnan(K)] = 0.0\n",
    "\n",
    "    A_mA = K - K.mean(1)[:,None]\n",
    "    Adot = A_mA.dot(A_mA.T)\n",
    "\n",
    "    ssA = (A_mA**2).sum(1)\n",
    "    Asq = np.sqrt(np.dot(ssA[:,None],ssA[None]))\n",
    "    K = Adot/Asq\n",
    "\n",
    "    del A_mA, ssA, Asq, Adot\n",
    "\n",
    "    # thrsholding\n",
    "    K = run_perc(K, 90)\n",
    "\n",
    "    # cosine similarity\n",
    "    norm = (K * K).sum(0, keepdims=True) ** .5\n",
    "    K = K.T @ K\n",
    "    aff = K / norm / norm.T\n",
    "    \n",
    "    np.savez(f'./similarities/similarity.{fname}', K=K, aff=aff)"
   ]
  },
  {
   "cell_type": "code",
   "execution_count": null,
   "metadata": {},
   "outputs": [],
   "source": [
    "p = Path('./timeseries/')\n",
    "out = Path('./similarities/')\n",
    "\n",
    "files = sorted(p.glob('*.npy'))"
   ]
  },
  {
   "cell_type": "code",
   "execution_count": null,
   "metadata": {},
   "outputs": [],
   "source": [
    "_ = Parallel(n_jobs=52, verbose=10)(delayed(compute_similarities)(f, out) for f in files)"
   ]
  }
 ],
 "metadata": {
  "kernelspec": {
   "display_name": "Python 3",
   "language": "python",
   "name": "python3"
  },
  "language_info": {
   "codemirror_mode": {
    "name": "ipython",
    "version": 3
   },
   "file_extension": ".py",
   "mimetype": "text/x-python",
   "name": "python",
   "nbconvert_exporter": "python",
   "pygments_lexer": "ipython3",
   "version": "3.6.6"
  }
 },
 "nbformat": 4,
 "nbformat_minor": 2
}
